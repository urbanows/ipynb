{
  "nbformat": 4,
  "nbformat_minor": 0,
  "metadata": {
    "colab": {
      "name": "Edit SB Item.ipynb",
      "provenance": [],
      "collapsed_sections": []
    },
    "kernelspec": {
      "display_name": "Python 3",
      "language": "python",
      "name": "python3"
    }
  },
  "cells": [
    {
      "cell_type": "markdown",
      "metadata": {
        "id": "JuUW7A9pYJE-",
        "colab_type": "text"
      },
      "source": [
        "Install pysb"
      ]
    },
    {
      "cell_type": "code",
      "metadata": {
        "id": "GOhJQRntU3H7",
        "colab_type": "code",
        "colab": {
          "base_uri": "https://localhost:8080/",
          "height": 193
        },
        "outputId": "58e1d489-8ae4-400b-ad7f-01b759fd57ba"
      },
      "source": [
        "%%bash\n",
        "\n",
        "pip install sciencebasepy"
      ],
      "execution_count": null,
      "outputs": [
        {
          "output_type": "stream",
          "text": [
            "Collecting sciencebasepy\n",
            "  Downloading https://files.pythonhosted.org/packages/1a/8b/3aead3f9d3fa3ea29fdb20b563772f82088c96e4522d9b1980871c862fde/sciencebasepy-1.6.9-py3-none-any.whl\n",
            "Requirement already satisfied: requests in /usr/local/lib/python3.6/dist-packages (from sciencebasepy) (2.23.0)\n",
            "Requirement already satisfied: certifi>=2017.4.17 in /usr/local/lib/python3.6/dist-packages (from requests->sciencebasepy) (2020.6.20)\n",
            "Requirement already satisfied: urllib3!=1.25.0,!=1.25.1,<1.26,>=1.21.1 in /usr/local/lib/python3.6/dist-packages (from requests->sciencebasepy) (1.24.3)\n",
            "Requirement already satisfied: idna<3,>=2.5 in /usr/local/lib/python3.6/dist-packages (from requests->sciencebasepy) (2.10)\n",
            "Requirement already satisfied: chardet<4,>=3.0.2 in /usr/local/lib/python3.6/dist-packages (from requests->sciencebasepy) (3.0.4)\n",
            "Installing collected packages: sciencebasepy\n",
            "Successfully installed sciencebasepy-1.6.9\n"
          ],
          "name": "stdout"
        }
      ]
    },
    {
      "cell_type": "code",
      "metadata": {
        "id": "oy2HpYDYccXh",
        "colab_type": "code",
        "colab": {}
      },
      "source": [
        "#from pysb import SbSession\n",
        "import time\n",
        "import os\n",
        "import sciencebasepy\n",
        "from getpass import getpass\n",
        "import bs4\n",
        "import requests\n",
        "import base64\n",
        "import subprocess\n",
        "#import boto3\n",
        "import datetime\n",
        "import getpass\n",
        "import random\n",
        "import string"
      ],
      "execution_count": null,
      "outputs": []
    },
    {
      "cell_type": "markdown",
      "metadata": {
        "id": "KgB1DOPjZASK",
        "colab_type": "text"
      },
      "source": [
        "1) Pull items for IGSN assignment out of ScienceBase"
      ]
    },
    {
      "cell_type": "code",
      "metadata": {
        "id": "e-givnMUcmtO",
        "colab_type": "code",
        "colab": {
          "base_uri": "https://localhost:8080/",
          "height": 52
        },
        "outputId": "3fb835a5-ff13-4295-80db-fc485193b0eb"
      },
      "source": [
        "#identify targeted collection\n",
        "# loginc prompts for a password\n",
        "sb = sciencebasepy.SbSession(\"beta\").loginc(\"surbanowski@usgs.gov\")\n",
        "#sb = sciencebasepy.SbSession(\"beta\")\n",
        "\n",
        "itemID = '57b5fab8e4b0062befcc4ad7' \n",
        "sbItem=sb.get_item(itemID)\n",
        "itemUrl=sbItem['link']['url']\n",
        "print(itemUrl)\n"
      ],
      "execution_count": null,
      "outputs": [
        {
          "output_type": "stream",
          "text": [
            "··········\n",
            "https://beta.sciencebase.gov/catalog/item/57b5fab8e4b0062befcc4ad7\n"
          ],
          "name": "stdout"
        }
      ]
    },
    {
      "cell_type": "markdown",
      "metadata": {
        "id": "CGrOlw05gY6u",
        "colab_type": "text"
      },
      "source": [
        "5) Add entry to data store with identifier and SB id/url"
      ]
    },
    {
      "cell_type": "code",
      "metadata": {
        "id": "26LGjqajdCiP",
        "colab_type": "code",
        "colab": {
          "base_uri": "https://localhost:8080/",
          "height": 1000
        },
        "outputId": "e8316981-456b-4b3a-dedc-438cb075cfc9"
      },
      "source": [
        "#igsn_update = {'id':itemID, \"webLinks\": [ { 'name':'0','uri':'https://gis.usgs.gov/sciencebase2/rest/services/Catalog/5c997bb7e4b0b8a7f6289475/MapServer','type': 'OGC:WMS-1.3.0-http-get-map', 'typeLabel': 'NA', 'title': 'Protected Areas Database of the United States' } ]}\n",
        "#igsn_update = {'id':itemID,\"webLinks\": [{\"type\": \"OGC:WMS-1.3.0-http-get-map\",\"typeLabel\": \"NA\",\"uri\": \"https://gis.usgs.gov/sciencebase2/rest/services/Catalog/5c997bb7e4b0b8a7f6289475/MapServer\",\"title\": \"Protected Areas Database of the United States\"},{\"type\": \"serviceCapabilitiesUrl\",\"typeLabel\": \"OGC Service Capabilities URL\",\"uri\": \"https://bison.usgs.gov/api/wms?LAYERS=species&species=Pica pica&type=scientific_name&TRANSPARENT=true\",\"rel\": \"service\",\"title\": \"External Source 20200113\"},{\"type\": \"serviceCapabilitiesUrl\",\"typeLabel\": \"OGC Service Capabilities URL\",\"uri\": \"https://bison.usgs.gov/apiinput/wms?LAYERS=species&TRANSPARENT=true\",\"rel\": \"service\",\"title\": \"API Input External Source 20200113\"}]}\n",
        "#igsn_update = {'id':itemID,\"facets\":[{\"boundingBox\": {\"minY\": 31.332831898584413,\"minX\": -112.66507176822302,\"maxY\": 41.05365170721052,\"maxX\": -104.02458437152448},\"crs\": \"EPSG:3857\",\"serviceMapUrl\": \"https://www.sciencebase.gov:443/geoserver/CONUS_Range_2001/wms?SERVICE=WMS&msg=apiinput\",\"serviceFeatureInfoUrl\": \"https://www.sciencebase.gov:443/geoserver/CONUS_Range_2001/wms?SERVICE=WMS&msg=apiinput\",\"capabilitiesUrl\": \"https://www1.sciencebase.gov/geoserver/CONUS_Range_2001/wms?service=WMS&version=1.1.0&request=GetCapabilities&msg=apiinput119getcap\",\"serviceLegendUrl\": \"https://www.sciencebase.gov:443/geoserver/CONUS_Range_2001/wms?SERVICE=WMS&msg=apiinput\",\"type\": \"WMS\",\"serviceVersion\": \"1.1.9\",\"layers\": \"API Input Extension Layer Name\",\"serviceCapabilitiesUrl\": \"https://www.sciencebase.gov:443/geoserver/CONUS_Range_2001/wms?SERVICE=WMS&msg=apiinput119\",\"className\": \"gov.sciencebase.catalog.item.facet.OGCFacet\",\"facetName\": \"OGC Web Service\"}]}\n",
        "igsn_update =  {'id':itemID,\"files\": [{\"name\": \"csw.json\", \"title\": \"TerriaMap CSW Catalog\",\"contentType\": \"application/terriaj+json\",\"pathOnDisk\": \"__disk__5a/cb/84/5acb84165ad114a0f246a09f12188e71b950139e\",\"size\": 1471,\"dateUploaded\": \"2020-09-08T18:21:42Z\",\"uploadedBy\": \"surbanowski@usgs.gov\",\"checksum\": {\"value\": \"d7102ba4b16001df28660f442e6270d8\",\"type\": \"MD5\"},\"url\": \"https://beta.sciencebase.gov/catalog/file/get/5e2761ea82ce137d5c0e6ccb?f=__disk__5a%2Fcb%2F84%2F5acb84165ad114a0f246a09f12188e71b950139e\",\"downloadUri\": \"https://beta.sciencebase.gov/catalog/file/get/5e2761ea82ce137d5c0e6ccb?f=__disk__5a%2Fcb%2F84%2F5acb84165ad114a0f246a09f12188e71b950139e\"}]}\n",
        "sb.update_item(igsn_update)"
      ],
      "execution_count": null,
      "outputs": [
        {
          "output_type": "execute_result",
          "data": {
            "text/plain": [
              "{'browseCategories': ['Data'],\n",
              " 'browseTypes': ['Map Service', 'OGC WMS Layer'],\n",
              " 'contacts': [{'active': True,\n",
              "   'company': 'GS, Room:  9210, Affiliation:  EMPLOYEE',\n",
              "   'contactType': 'person',\n",
              "   'email': 'surbanowski@usgs.gov',\n",
              "   'firstName': 'Shayne',\n",
              "   'jobTitle': 'Computer Scientist',\n",
              "   'lastName': 'Urbanowski',\n",
              "   'middleName': 'R',\n",
              "   'name': 'Shayne R Urbanowski',\n",
              "   'oldPartyId': 64532,\n",
              "   'orcId': '0000-0001-5030-6719',\n",
              "   'organization': {'displayText': 'Scientific Data Integration and Visualization'},\n",
              "   'primaryLocation': {'building': 'DFC Bldg 810',\n",
              "    'buildingCode': 'KBT',\n",
              "    'location': 'Denver Federal Center',\n",
              "    'name': 'Shayne R Urbanowski/GIO/CONT/USGS/DOI - Primary Location',\n",
              "    'officePhone': '303-202-4089',\n",
              "    'roomNumber': '9210',\n",
              "    'streetAddress': {'city': 'Lakewood',\n",
              "     'country': 'US',\n",
              "     'line1': 'W 6th Ave Kipling St',\n",
              "     'state': 'CO',\n",
              "     'zip': '80225'}},\n",
              "   'type': 'Author'}],\n",
              " 'distributionLinks': [{'files': '',\n",
              "   'name': '',\n",
              "   'rel': 'alternate',\n",
              "   'title': 'External WMS Service',\n",
              "   'type': 'serviceCapabilitiesUrl',\n",
              "   'typeLabel': 'OGC Service Capabilities URL',\n",
              "   'uri': 'https://www1.sciencebase.gov/geoserver/CONUS_Range_2001/wms?service=WMS&version=1.1.0&request=GetCapabilities&msg=apiinput119getcap'},\n",
              "  {'files': '',\n",
              "   'name': '',\n",
              "   'rel': 'alternate',\n",
              "   'title': 'KML Service',\n",
              "   'type': 'kml',\n",
              "   'typeLabel': 'KML Download',\n",
              "   'uri': 'https://beta.sciencebase.gov/catalogMaps/mapping/ows/57b5fab8e4b0062befcc4ad7?mode=download&request=kml&service=wms&layers=childrenBoundingBox,children'},\n",
              "  {'files': '',\n",
              "   'name': '',\n",
              "   'rel': 'alternate',\n",
              "   'title': 'ScienceBase WMS Service',\n",
              "   'type': 'serviceCapabilitiesUrl',\n",
              "   'typeLabel': 'OGC Service Capabilities URL',\n",
              "   'uri': 'https://beta.sciencebase.gov/catalogMaps/mapping/ows/57b5fab8e4b0062befcc4ad7?service=wms&request=getcapabilities&version=1.3.0'},\n",
              "  {'files': '',\n",
              "   'name': '',\n",
              "   'rel': 'alternate',\n",
              "   'title': 'ScienceBase Collection JSON',\n",
              "   'type': 'repo',\n",
              "   'typeLabel': 'ScienceBase Repository',\n",
              "   'uri': 'https://beta.sciencebase.gov/catalog/items?parentId=57b5fab8e4b0062befcc4ad7&format=json'},\n",
              "  {'files': '',\n",
              "   'name': '',\n",
              "   'rel': 'alternate',\n",
              "   'title': 'ScienceBase Collection ATOM',\n",
              "   'type': 'repo',\n",
              "   'typeLabel': 'ScienceBase Repository',\n",
              "   'uri': 'https://beta.sciencebase.gov/catalog/items?parentId=57b5fab8e4b0062befcc4ad7&format=atom'},\n",
              "  {'files': '',\n",
              "   'name': '',\n",
              "   'rel': 'alternate',\n",
              "   'title': 'ScienceBase Collection CSV',\n",
              "   'type': 'repo',\n",
              "   'typeLabel': 'ScienceBase Repository',\n",
              "   'uri': 'https://beta.sciencebase.gov/catalog/items?parentId=57b5fab8e4b0062befcc4ad7&format=csv'},\n",
              "  {'files': '',\n",
              "   'name': '',\n",
              "   'rel': 'alternate',\n",
              "   'title': 'ScienceBase OAI PMH Service',\n",
              "   'type': 'oai-pmh',\n",
              "   'typeLabel': 'OAI-PMH',\n",
              "   'uri': 'https://beta.sciencebase.gov/catalog/oai-pmh?verb=ListRecords&metadataPrefix=fgdc-orig&set=57b5fab8e4b0062befcc4ad7'},\n",
              "  {'files': '',\n",
              "   'name': '',\n",
              "   'rel': 'alternate',\n",
              "   'title': 'ScienceBase CSW Service',\n",
              "   'type': 'csw',\n",
              "   'typeLabel': '',\n",
              "   'uri': 'https://beta.sciencebase.gov/catalog/item/57b5fab8e4b0062befcc4ad7/csw?service=CSW&version=2.0.2&request=GetRecords'},\n",
              "  {'files': [{'contentType': 'application/terriaj+json',\n",
              "     'name': 'csw.json',\n",
              "     'size': 1471,\n",
              "     'title': 'TerriaMap CSW Catalog'}],\n",
              "   'name': 'surbanowski_usg.zip',\n",
              "   'rel': 'alternate',\n",
              "   'title': 'Download Attached Files',\n",
              "   'type': 'downloadLink',\n",
              "   'typeLabel': 'Download Link',\n",
              "   'uri': 'https://beta.sciencebase.gov/catalog/file/get/57b5fab8e4b0062befcc4ad7'}],\n",
              " 'facets': [{'boundingBox': {'maxX': -104.02458437152448,\n",
              "    'maxY': 41.05365170721052,\n",
              "    'minX': -112.66507176822302,\n",
              "    'minY': 31.332831898584413},\n",
              "   'capabilitiesUrl': 'https://www1.sciencebase.gov/geoserver/CONUS_Range_2001/wms?service=WMS&version=1.1.0&request=GetCapabilities&msg=apiinput119getcap',\n",
              "   'className': 'gov.sciencebase.catalog.item.facet.OGCFacet',\n",
              "   'crs': 'EPSG:3857',\n",
              "   'facetName': 'OGC Web Service',\n",
              "   'layers': 'API Input Extension Layer Name',\n",
              "   'serviceCapabilitiesUrl': 'https://www.sciencebase.gov:443/geoserver/CONUS_Range_2001/wms?SERVICE=WMS&msg=apiinput119',\n",
              "   'serviceFeatureInfoUrl': 'https://www.sciencebase.gov:443/geoserver/CONUS_Range_2001/wms?SERVICE=WMS&msg=apiinput',\n",
              "   'serviceLegendUrl': 'https://www.sciencebase.gov:443/geoserver/CONUS_Range_2001/wms?SERVICE=WMS&msg=apiinput',\n",
              "   'serviceMapUrl': 'https://www.sciencebase.gov:443/geoserver/CONUS_Range_2001/wms?SERVICE=WMS&msg=apiinput',\n",
              "   'serviceVersion': '1.1.9',\n",
              "   'type': 'WMS'}],\n",
              " 'files': [{'bucket': None,\n",
              "   'checksum': {'type': 'MD5', 'value': 'd7102ba4b16001df28660f442e6270d8'},\n",
              "   'contentEncoding': None,\n",
              "   'contentType': 'application/terriaj+json',\n",
              "   'cuid': None,\n",
              "   'dateUploaded': '2020-09-08T18:21:42Z',\n",
              "   'downloadUri': 'https://beta.sciencebase.gov/catalog/file/get/57b5fab8e4b0062befcc4ad7?f=__disk__5a%2Fcb%2F84%2F5acb84165ad114a0f246a09f12188e71b950139e',\n",
              "   'imageHeight': None,\n",
              "   'imageWidth': None,\n",
              "   'key': None,\n",
              "   'name': 'csw.json',\n",
              "   'node': None,\n",
              "   'originalMetadata': None,\n",
              "   'pathOnDisk': '__disk__5a/cb/84/5acb84165ad114a0f246a09f12188e71b950139e',\n",
              "   'processToken': None,\n",
              "   'processed': None,\n",
              "   'published': None,\n",
              "   's3Object': None,\n",
              "   'size': 1471,\n",
              "   'title': 'TerriaMap CSW Catalog',\n",
              "   'uploadedBy': 'surbanowski@usgs.gov',\n",
              "   'url': 'https://beta.sciencebase.gov/catalog/file/get/57b5fab8e4b0062befcc4ad7?f=__disk__5a%2Fcb%2F84%2F5acb84165ad114a0f246a09f12188e71b950139e',\n",
              "   'useForPreview': None}],\n",
              " 'hasChildren': True,\n",
              " 'id': '57b5fab8e4b0062befcc4ad7',\n",
              " 'identifiers': [{'key': '20.500.11812/dpHbxkBh',\n",
              "   'scheme': 'https://www.sciencebase.gov/vocab/category/item/identifier',\n",
              "   'type': 'IGSN'}],\n",
              " 'link': {'rel': 'self',\n",
              "  'url': 'https://beta.sciencebase.gov/catalog/item/57b5fab8e4b0062befcc4ad7'},\n",
              " 'locked': False,\n",
              " 'parentId': '4f4e4772e4b07f02db47e231',\n",
              " 'permissions': {'read': {'acl': ['USER:surbanowski@usgs.gov'],\n",
              "   'inherited': False},\n",
              "  'write': {'acl': ['USER:surbanowski@usgs.gov'], 'inherited': False}},\n",
              " 'provenance': {'createdBy': 'surbanowski@usgs.gov',\n",
              "  'dateCreated': '2016-08-18T18:13:12Z',\n",
              "  'lastUpdated': '2020-09-08T18:46:53Z',\n",
              "  'lastUpdatedBy': 'surbanowski@usgs.gov'},\n",
              " 'relatedItems': {'link': {'rel': 'related',\n",
              "   'url': 'https://beta.sciencebase.gov/catalog/itemLinks?itemId=57b5fab8e4b0062befcc4ad7'}},\n",
              " 'systemTypes': ['Folder', 'Mappable'],\n",
              " 'title': 'surbanowski@usgs.gov'}"
            ]
          },
          "metadata": {
            "tags": []
          },
          "execution_count": 9
        }
      ]
    },
    {
      "cell_type": "markdown",
      "metadata": {
        "id": "qFhwLYD4i3fm",
        "colab_type": "text"
      },
      "source": [
        "Check results"
      ]
    },
    {
      "cell_type": "code",
      "metadata": {
        "id": "mO1RIrZ_i5yZ",
        "colab_type": "code",
        "colab": {
          "base_uri": "https://localhost:8080/",
          "height": 1000
        },
        "outputId": "c325d9ec-68fa-4f19-dbdc-36de0b442204"
      },
      "source": [
        "sb.get_item(itemID)"
      ],
      "execution_count": null,
      "outputs": [
        {
          "output_type": "execute_result",
          "data": {
            "text/plain": [
              "{'contacts': [{'active': True,\n",
              "   'company': 'GS, Room:  9210, Affiliation:  EMPLOYEE',\n",
              "   'contactType': 'person',\n",
              "   'email': 'surbanowski@usgs.gov',\n",
              "   'firstName': 'Shayne',\n",
              "   'jobTitle': 'Computer Scientist',\n",
              "   'lastName': 'Urbanowski',\n",
              "   'middleName': 'R',\n",
              "   'name': 'Shayne R Urbanowski',\n",
              "   'oldPartyId': 64532,\n",
              "   'orcId': '0000-0001-5030-6719',\n",
              "   'organization': {'displayText': 'Scientific Data Integration and Visualization'},\n",
              "   'primaryLocation': {'building': 'DFC Bldg 810',\n",
              "    'buildingCode': 'KBT',\n",
              "    'location': 'Denver Federal Center',\n",
              "    'name': 'Shayne R Urbanowski/GIO/CONT/USGS/DOI - Primary Location',\n",
              "    'officePhone': '303-202-4089',\n",
              "    'roomNumber': '9210',\n",
              "    'streetAddress': {'city': 'Lakewood',\n",
              "     'country': 'US',\n",
              "     'line1': 'W 6th Ave Kipling St',\n",
              "     'state': 'CO',\n",
              "     'zip': '80225'}},\n",
              "   'type': 'Author'}],\n",
              " 'distributionLinks': [{'files': '',\n",
              "   'name': '',\n",
              "   'rel': 'alternate',\n",
              "   'title': 'KML Service',\n",
              "   'type': 'kml',\n",
              "   'typeLabel': 'KML Download',\n",
              "   'uri': 'https://beta.sciencebase.gov/catalogMaps/mapping/ows/57b5fab8e4b0062befcc4ad7?mode=download&request=kml&service=wms&layers=childrenBoundingBox,children'},\n",
              "  {'files': '',\n",
              "   'name': '',\n",
              "   'rel': 'alternate',\n",
              "   'title': 'ScienceBase WMS Service',\n",
              "   'type': 'serviceCapabilitiesUrl',\n",
              "   'typeLabel': 'OGC Service Capabilities URL',\n",
              "   'uri': 'https://beta.sciencebase.gov/catalogMaps/mapping/ows/57b5fab8e4b0062befcc4ad7?service=wms&request=getcapabilities&version=1.3.0'},\n",
              "  {'files': '',\n",
              "   'name': '',\n",
              "   'rel': 'alternate',\n",
              "   'title': 'ScienceBase Collection JSON',\n",
              "   'type': 'repo',\n",
              "   'typeLabel': 'ScienceBase Repository',\n",
              "   'uri': 'https://beta.sciencebase.gov/catalog/items?parentId=57b5fab8e4b0062befcc4ad7&format=json'},\n",
              "  {'files': '',\n",
              "   'name': '',\n",
              "   'rel': 'alternate',\n",
              "   'title': 'ScienceBase Collection ATOM',\n",
              "   'type': 'repo',\n",
              "   'typeLabel': 'ScienceBase Repository',\n",
              "   'uri': 'https://beta.sciencebase.gov/catalog/items?parentId=57b5fab8e4b0062befcc4ad7&format=atom'},\n",
              "  {'files': '',\n",
              "   'name': '',\n",
              "   'rel': 'alternate',\n",
              "   'title': 'ScienceBase Collection CSV',\n",
              "   'type': 'repo',\n",
              "   'typeLabel': 'ScienceBase Repository',\n",
              "   'uri': 'https://beta.sciencebase.gov/catalog/items?parentId=57b5fab8e4b0062befcc4ad7&format=csv'},\n",
              "  {'files': '',\n",
              "   'name': '',\n",
              "   'rel': 'alternate',\n",
              "   'title': 'ScienceBase OAI PMH Service',\n",
              "   'type': 'oai-pmh',\n",
              "   'typeLabel': 'OAI-PMH',\n",
              "   'uri': 'https://beta.sciencebase.gov/catalog/oai-pmh?verb=ListRecords&metadataPrefix=fgdc-orig&set=57b5fab8e4b0062befcc4ad7'},\n",
              "  {'files': '',\n",
              "   'name': '',\n",
              "   'rel': 'alternate',\n",
              "   'title': 'ScienceBase CSW Service',\n",
              "   'type': 'csw',\n",
              "   'typeLabel': '',\n",
              "   'uri': 'https://beta.sciencebase.gov/catalog/item/57b5fab8e4b0062befcc4ad7/csw?service=CSW&version=2.0.2&request=GetRecords'}],\n",
              " 'hasChildren': True,\n",
              " 'id': '57b5fab8e4b0062befcc4ad7',\n",
              " 'identifiers': [{'key': '20.500.11812/dpHbxkBh',\n",
              "   'scheme': 'https://www.sciencebase.gov/vocab/category/item/identifier',\n",
              "   'type': 'IGSN'}],\n",
              " 'link': {'rel': 'self',\n",
              "  'url': 'https://beta.sciencebase.gov/catalog/item/57b5fab8e4b0062befcc4ad7'},\n",
              " 'locked': False,\n",
              " 'parentId': '4f4e4772e4b07f02db47e231',\n",
              " 'permissions': {'read': {'acl': ['USER:surbanowski@usgs.gov'],\n",
              "   'inherited': False},\n",
              "  'write': {'acl': ['USER:surbanowski@usgs.gov'], 'inherited': False}},\n",
              " 'provenance': {'createdBy': 'surbanowski@usgs.gov',\n",
              "  'dateCreated': '2016-08-18T18:13:12Z',\n",
              "  'lastUpdated': '2020-09-04T20:02:21Z',\n",
              "  'lastUpdatedBy': 'surbanowski@usgs.gov'},\n",
              " 'relatedItems': {'link': {'rel': 'related',\n",
              "   'url': 'https://beta.sciencebase.gov/catalog/itemLinks?itemId=57b5fab8e4b0062befcc4ad7'}},\n",
              " 'systemTypes': ['Folder'],\n",
              " 'title': 'surbanowski@usgs.gov'}"
            ]
          },
          "metadata": {
            "tags": []
          },
          "execution_count": 6
        }
      ]
    },
    {
      "cell_type": "markdown",
      "metadata": {
        "id": "4XbuQh1nQ46i",
        "colab_type": "text"
      },
      "source": [
        "Future step 0:\n",
        "\n",
        "Bulk load objects (collections and samples) into ScienceBase creating parent and child items"
      ]
    }
  ]
}